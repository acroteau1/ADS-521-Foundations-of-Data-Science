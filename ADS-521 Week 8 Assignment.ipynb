{
 "cells": [
  {
   "cell_type": "code",
   "execution_count": 1,
   "id": "0a2d5ebb",
   "metadata": {},
   "outputs": [
    {
     "data": {
      "text/html": [
       "<div>\n",
       "<style scoped>\n",
       "    .dataframe tbody tr th:only-of-type {\n",
       "        vertical-align: middle;\n",
       "    }\n",
       "\n",
       "    .dataframe tbody tr th {\n",
       "        vertical-align: top;\n",
       "    }\n",
       "\n",
       "    .dataframe thead th {\n",
       "        text-align: right;\n",
       "    }\n",
       "</style>\n",
       "<table border=\"1\" class=\"dataframe\">\n",
       "  <thead>\n",
       "    <tr style=\"text-align: right;\">\n",
       "      <th></th>\n",
       "      <th>survived</th>\n",
       "      <th>pclass</th>\n",
       "      <th>sex</th>\n",
       "      <th>age</th>\n",
       "      <th>sibsp</th>\n",
       "      <th>parch</th>\n",
       "      <th>fare</th>\n",
       "      <th>embarked</th>\n",
       "      <th>class</th>\n",
       "      <th>who</th>\n",
       "      <th>adult_male</th>\n",
       "      <th>deck</th>\n",
       "      <th>embark_town</th>\n",
       "      <th>alive</th>\n",
       "      <th>alone</th>\n",
       "    </tr>\n",
       "  </thead>\n",
       "  <tbody>\n",
       "    <tr>\n",
       "      <th>0</th>\n",
       "      <td>0</td>\n",
       "      <td>3</td>\n",
       "      <td>male</td>\n",
       "      <td>22.0</td>\n",
       "      <td>1</td>\n",
       "      <td>0</td>\n",
       "      <td>7.2500</td>\n",
       "      <td>S</td>\n",
       "      <td>Third</td>\n",
       "      <td>man</td>\n",
       "      <td>True</td>\n",
       "      <td>NaN</td>\n",
       "      <td>Southampton</td>\n",
       "      <td>no</td>\n",
       "      <td>False</td>\n",
       "    </tr>\n",
       "    <tr>\n",
       "      <th>1</th>\n",
       "      <td>1</td>\n",
       "      <td>1</td>\n",
       "      <td>female</td>\n",
       "      <td>38.0</td>\n",
       "      <td>1</td>\n",
       "      <td>0</td>\n",
       "      <td>71.2833</td>\n",
       "      <td>C</td>\n",
       "      <td>First</td>\n",
       "      <td>woman</td>\n",
       "      <td>False</td>\n",
       "      <td>C</td>\n",
       "      <td>Cherbourg</td>\n",
       "      <td>yes</td>\n",
       "      <td>False</td>\n",
       "    </tr>\n",
       "    <tr>\n",
       "      <th>2</th>\n",
       "      <td>1</td>\n",
       "      <td>3</td>\n",
       "      <td>female</td>\n",
       "      <td>26.0</td>\n",
       "      <td>0</td>\n",
       "      <td>0</td>\n",
       "      <td>7.9250</td>\n",
       "      <td>S</td>\n",
       "      <td>Third</td>\n",
       "      <td>woman</td>\n",
       "      <td>False</td>\n",
       "      <td>NaN</td>\n",
       "      <td>Southampton</td>\n",
       "      <td>yes</td>\n",
       "      <td>True</td>\n",
       "    </tr>\n",
       "    <tr>\n",
       "      <th>3</th>\n",
       "      <td>1</td>\n",
       "      <td>1</td>\n",
       "      <td>female</td>\n",
       "      <td>35.0</td>\n",
       "      <td>1</td>\n",
       "      <td>0</td>\n",
       "      <td>53.1000</td>\n",
       "      <td>S</td>\n",
       "      <td>First</td>\n",
       "      <td>woman</td>\n",
       "      <td>False</td>\n",
       "      <td>C</td>\n",
       "      <td>Southampton</td>\n",
       "      <td>yes</td>\n",
       "      <td>False</td>\n",
       "    </tr>\n",
       "    <tr>\n",
       "      <th>4</th>\n",
       "      <td>0</td>\n",
       "      <td>3</td>\n",
       "      <td>male</td>\n",
       "      <td>35.0</td>\n",
       "      <td>0</td>\n",
       "      <td>0</td>\n",
       "      <td>8.0500</td>\n",
       "      <td>S</td>\n",
       "      <td>Third</td>\n",
       "      <td>man</td>\n",
       "      <td>True</td>\n",
       "      <td>NaN</td>\n",
       "      <td>Southampton</td>\n",
       "      <td>no</td>\n",
       "      <td>True</td>\n",
       "    </tr>\n",
       "  </tbody>\n",
       "</table>\n",
       "</div>"
      ],
      "text/plain": [
       "   survived  pclass     sex   age  sibsp  parch     fare embarked  class  \\\n",
       "0         0       3    male  22.0      1      0   7.2500        S  Third   \n",
       "1         1       1  female  38.0      1      0  71.2833        C  First   \n",
       "2         1       3  female  26.0      0      0   7.9250        S  Third   \n",
       "3         1       1  female  35.0      1      0  53.1000        S  First   \n",
       "4         0       3    male  35.0      0      0   8.0500        S  Third   \n",
       "\n",
       "     who  adult_male deck  embark_town alive  alone  \n",
       "0    man        True  NaN  Southampton    no  False  \n",
       "1  woman       False    C    Cherbourg   yes  False  \n",
       "2  woman       False  NaN  Southampton   yes   True  \n",
       "3  woman       False    C  Southampton   yes  False  \n",
       "4    man        True  NaN  Southampton    no   True  "
      ]
     },
     "execution_count": 1,
     "metadata": {},
     "output_type": "execute_result"
    }
   ],
   "source": [
    "#Run the following code to load Titanic dataset\n",
    "#Import necessary packages\n",
    "import ssl\n",
    "import numpy as np\n",
    "import pandas as pd\n",
    "import seaborn as sns\n",
    "\n",
    "#Allows us to download data secured with an SSL certificate\n",
    "ssl._create_default_https_context = ssl._create_unverified_context\n",
    "\n",
    "#Load the data\n",
    "titanic = sns.load_dataset('titanic')\n",
    "\n",
    "#Preview the first few lines of the data\n",
    "titanic.head()"
   ]
  },
  {
   "cell_type": "code",
   "execution_count": 2,
   "id": "a053fd98",
   "metadata": {},
   "outputs": [
    {
     "name": "stdout",
     "output_type": "stream",
     "text": [
      "The number of female passengers that did not survive, regardless of their class, are:  81\n"
     ]
    }
   ],
   "source": [
    "#1. How many female passengers did not survive (regardless of their class)?\n",
    "#For survived, 0 = No, 1 = Yes\n",
    "#Define a function that returns the sum where sex is female, survived is 0\n",
    "def f_survived(titanic):\n",
    "    return((titanic['sex'] == 'female') & (titanic['survived'] == 0)).sum( )\n",
    "\n",
    "#Print the answer\n",
    "print(\"The number of female passengers that did not survive, regardless of their class, are: \", f_survived(titanic))"
   ]
  },
  {
   "cell_type": "code",
   "execution_count": 3,
   "id": "f87d3f77",
   "metadata": {},
   "outputs": [
    {
     "name": "stdout",
     "output_type": "stream",
     "text": [
      "The number of first class female passengers that did not survive are:  3\n"
     ]
    }
   ],
   "source": [
    "#2. How many first class female passengers did not survive?\n",
    "#pclass is ticket class, 1 is first class\n",
    "#Define a function that returns the sum where sex is female, survived is 0, pclass is 1\n",
    "def f_1_survived(titanic):\n",
    "    return((titanic['sex'] == 'female') & (titanic['survived'] == 0) & (titanic['pclass'] == 1)).sum( )\n",
    "\n",
    "#Print the answer\n",
    "print(\"The number of first class female passengers that did not survive are: \", f_1_survived(titanic))"
   ]
  },
  {
   "cell_type": "code",
   "execution_count": 4,
   "id": "289a1e02",
   "metadata": {},
   "outputs": [
    {
     "name": "stdout",
     "output_type": "stream",
     "text": [
      "The number of male passengers that did not survive, regardless of their class, are:  468\n"
     ]
    }
   ],
   "source": [
    "#3. How many male passengers did not survive (regardless of their class)?\n",
    "#Define a function that returns the sum where sex is male and survived is 0\n",
    "def m_survived(titanic):\n",
    "    return((titanic['sex'] == 'male') & (titanic['survived'] == 0)).sum( )\n",
    "\n",
    "#Print the answer\n",
    "print(\"The number of male passengers that did not survive, regardless of their class, are: \", m_survived(titanic))"
   ]
  },
  {
   "cell_type": "code",
   "execution_count": 5,
   "id": "8fe1e559",
   "metadata": {},
   "outputs": [
    {
     "name": "stdout",
     "output_type": "stream",
     "text": [
      "The number of third class male passengers that did not survive are:  300\n"
     ]
    }
   ],
   "source": [
    "#4. How many third class male passengers did not survive?\n",
    "#pclass is ticket class, 3 is third class\n",
    "#Define a function that returns the sum where sex is male, survived is 0, and pclass is 3\n",
    "def m_3_survived(titanic):\n",
    "    return((titanic['sex'] == 'male') & (titanic['survived'] == 0) & (titanic['pclass'] == 3)).sum( )\n",
    "\n",
    "#Print the answer\n",
    "print(\"The number of third class male passengers that did not survive are: \", m_3_survived(titanic))"
   ]
  },
  {
   "cell_type": "code",
   "execution_count": 6,
   "id": "b5cf33c5",
   "metadata": {},
   "outputs": [],
   "source": [
    "#5. How many passengers were there per deck?\n",
    "#Add Unknown category to replace NaN deck values\n",
    "titanic.deck = titanic.deck.cat.add_categories(\"Unknown\")\n",
    "#Replace null deck values\n",
    "titanic.deck.fillna('Unknown', inplace=True)"
   ]
  },
  {
   "cell_type": "code",
   "execution_count": 7,
   "id": "e472acb8",
   "metadata": {},
   "outputs": [
    {
     "data": {
      "text/plain": [
       "deck\n",
       "A           15\n",
       "B           47\n",
       "C           59\n",
       "D           33\n",
       "E           32\n",
       "F           13\n",
       "G            4\n",
       "Unknown    688\n",
       "dtype: int64"
      ]
     },
     "execution_count": 7,
     "metadata": {},
     "output_type": "execute_result"
    }
   ],
   "source": [
    "#Group by deck, use size to retrieve number of entries\n",
    "titanic.groupby([\"deck\"]).size()"
   ]
  },
  {
   "cell_type": "code",
   "execution_count": 8,
   "id": "05764755",
   "metadata": {},
   "outputs": [
    {
     "name": "stdout",
     "output_type": "stream",
     "text": [
      "The number of passengers that survived from deck E are:  24\n"
     ]
    }
   ],
   "source": [
    "#6. How many passengers (absolute number) in Deck E survived and what was the breakdown (in Deck E) per class?\n",
    "#Define a function that returns the sum of surviving passengers from deck E\n",
    "def d_e_survived(titanic):\n",
    "    return((titanic['survived'] == 1) & (titanic['deck'] == 'E')).sum( )\n",
    "\n",
    "#Print the answer\n",
    "print(\"The number of passengers that survived from deck E are: \", d_e_survived(titanic))"
   ]
  },
  {
   "cell_type": "code",
   "execution_count": 10,
   "id": "a2536ab2",
   "metadata": {},
   "outputs": [
    {
     "name": "stdout",
     "output_type": "stream",
     "text": [
      "The number of first class passengers that survived from deck E are:  18\n",
      "The number of second class passengers that survived from deck E are:  3\n",
      "The number of third class passengers that survived from deck E are:  3\n"
     ]
    }
   ],
   "source": [
    "#Define a function that returns the sum of surviving passengers from deck E for first class\n",
    "def d_e_1_survived(titanic):\n",
    "    return((titanic['survived'] == 1) & (titanic['deck'] == 'E') & (titanic['pclass'] == 1)).sum( )\n",
    "\n",
    "#Define a function that returns the sum of surviving passengers from deck E for second class\n",
    "def d_e_2_survived(titanic):\n",
    "    return((titanic['survived'] == 1) & (titanic['deck'] == 'E') & (titanic['pclass'] == 2)).sum( )\n",
    "\n",
    "#Define a function that returns the sum of surviving passengers from deck E for third class\n",
    "def d_e_3_survived(titanic):\n",
    "    return((titanic['survived'] == 1) & (titanic['deck'] == 'E') & (titanic['pclass'] == 3)).sum( )\n",
    "\n",
    "#Print the answers\n",
    "print(\"The number of first class passengers that survived from deck E are: \", d_e_1_survived(titanic))\n",
    "print(\"The number of second class passengers that survived from deck E are: \", d_e_2_survived(titanic))\n",
    "print(\"The number of third class passengers that survived from deck E are: \", d_e_3_survived(titanic))"
   ]
  },
  {
   "cell_type": "code",
   "execution_count": null,
   "id": "7f20a135",
   "metadata": {},
   "outputs": [],
   "source": []
  }
 ],
 "metadata": {
  "kernelspec": {
   "display_name": "Python 3 (ipykernel)",
   "language": "python",
   "name": "python3"
  },
  "language_info": {
   "codemirror_mode": {
    "name": "ipython",
    "version": 3
   },
   "file_extension": ".py",
   "mimetype": "text/x-python",
   "name": "python",
   "nbconvert_exporter": "python",
   "pygments_lexer": "ipython3",
   "version": "3.9.13"
  }
 },
 "nbformat": 4,
 "nbformat_minor": 5
}
