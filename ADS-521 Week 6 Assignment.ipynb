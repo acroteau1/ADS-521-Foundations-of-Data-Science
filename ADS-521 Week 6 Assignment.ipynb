{
 "cells": [
  {
   "cell_type": "code",
   "execution_count": 1,
   "id": "90ed6473",
   "metadata": {},
   "outputs": [],
   "source": [
    "#Import necessary libraries\n",
    "import numpy as np\n",
    "import pandas as pd"
   ]
  },
  {
   "cell_type": "code",
   "execution_count": 3,
   "id": "2e84b050",
   "metadata": {},
   "outputs": [],
   "source": [
    "#Load data, low_memory = False added to alleviate DtypeWarning: Columns (3,4,5,6,12) have mixed types.\n",
    "salaries = pd.read_csv(\"Salaries.csv\", low_memory=False)"
   ]
  },
  {
   "cell_type": "code",
   "execution_count": 17,
   "id": "0cfce480",
   "metadata": {},
   "outputs": [],
   "source": [
    "#1.  What is the highest amount of OvertimePay in the dataset ? \n",
    "#First, data must be cleaned to remove rows with the \"Not Provided\" value\n",
    "salaries.drop(salaries[salaries['OvertimePay'] == \"Not Provided\"].index, inplace = True)"
   ]
  },
  {
   "cell_type": "code",
   "execution_count": 18,
   "id": "c2a3f8f1",
   "metadata": {},
   "outputs": [],
   "source": [
    "#Convert the data in the row to floats\n",
    "salaries['OvertimePay'] = pd.to_numeric(salaries.OvertimePay)"
   ]
  },
  {
   "cell_type": "code",
   "execution_count": 19,
   "id": "f237bfa7",
   "metadata": {},
   "outputs": [
    {
     "data": {
      "text/plain": [
       "245131.88"
      ]
     },
     "execution_count": 19,
     "metadata": {},
     "output_type": "execute_result"
    }
   ],
   "source": [
    "#Return the maximum value of the OvertimePay column.\n",
    "salaries.OvertimePay.max()"
   ]
  },
  {
   "cell_type": "code",
   "execution_count": 22,
   "id": "4c325296",
   "metadata": {},
   "outputs": [
    {
     "name": "stdout",
     "output_type": "stream",
     "text": [
      "24    CAPTAIN, FIRE SUPPRESSION\n",
      "Name: JobTitle, dtype: object\n"
     ]
    }
   ],
   "source": [
    "#2. What is the job title of JOSEPH DRISCOLL ? \n",
    "salaries2=salaries.loc[salaries['EmployeeName'] == \"JOSEPH DRISCOLL\", 'JobTitle']\n",
    "print(salaries2)"
   ]
  },
  {
   "cell_type": "code",
   "execution_count": 27,
   "id": "406bd107",
   "metadata": {},
   "outputs": [
    {
     "data": {
      "text/plain": [
       "0    NATHANIEL FORD\n",
       "Name: EmployeeName, dtype: object"
      ]
     },
     "execution_count": 27,
     "metadata": {},
     "output_type": "execute_result"
    }
   ],
   "source": [
    "#3. What is the name of highest paid person (including benefits)?\n",
    "salaries.loc[salaries.TotalPayBenefits == salaries.TotalPayBenefits.max(), 'EmployeeName']"
   ]
  },
  {
   "cell_type": "code",
   "execution_count": 30,
   "id": "cb3d9dd5",
   "metadata": {},
   "outputs": [
    {
     "name": "stdout",
     "output_type": "stream",
     "text": [
      "Year\n",
      "2011    63595.956517\n",
      "2012    65436.406857\n",
      "2013    69630.030216\n",
      "2014    66564.421924\n",
      "Name: BasePay, dtype: float64\n"
     ]
    }
   ],
   "source": [
    "#4. What was the average (mean) BasePay of all employees per year? \n",
    "#Convert the data in the row to floats\n",
    "salaries['BasePay'] = pd.to_numeric(salaries.BasePay)\n",
    "#Calculate mean of BasePay column, grouped by value in Year column\n",
    "meanresult = salaries.groupby('Year')['BasePay'].mean()\n",
    "print(meanresult)"
   ]
  },
  {
   "cell_type": "code",
   "execution_count": 32,
   "id": "4d62cb81",
   "metadata": {},
   "outputs": [
    {
     "data": {
      "text/plain": [
       "Transit Operator                7036\n",
       "Special Nurse                   4389\n",
       "Registered Nurse                3736\n",
       "Public Svc Aide-Public Works    2518\n",
       "Police Officer 3                2421\n",
       "Name: JobTitle, dtype: int64"
      ]
     },
     "execution_count": 32,
     "metadata": {},
     "output_type": "execute_result"
    }
   ],
   "source": [
    "#5.What are the top 5 most common jobs?\n",
    "salaries.JobTitle.value_counts().nlargest(5)"
   ]
  },
  {
   "cell_type": "code",
   "execution_count": 47,
   "id": "e35dd276",
   "metadata": {},
   "outputs": [
    {
     "data": {
      "text/plain": [
       "627"
      ]
     },
     "execution_count": 47,
     "metadata": {},
     "output_type": "execute_result"
    }
   ],
   "source": [
    "#6.How many people have the word Chief in their job title? \n",
    "salaries.JobTitle.str.contains('chief',case=False).sum()"
   ]
  },
  {
   "cell_type": "code",
   "execution_count": null,
   "id": "bb165207",
   "metadata": {},
   "outputs": [],
   "source": []
  }
 ],
 "metadata": {
  "kernelspec": {
   "display_name": "Python 3 (ipykernel)",
   "language": "python",
   "name": "python3"
  },
  "language_info": {
   "codemirror_mode": {
    "name": "ipython",
    "version": 3
   },
   "file_extension": ".py",
   "mimetype": "text/x-python",
   "name": "python",
   "nbconvert_exporter": "python",
   "pygments_lexer": "ipython3",
   "version": "3.9.13"
  }
 },
 "nbformat": 4,
 "nbformat_minor": 5
}
